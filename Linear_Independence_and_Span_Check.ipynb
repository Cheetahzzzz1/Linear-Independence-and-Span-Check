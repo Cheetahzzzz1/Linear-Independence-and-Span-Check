{
  "nbformat": 4,
  "nbformat_minor": 0,
  "metadata": {
    "colab": {
      "provenance": [],
      "authorship_tag": "ABX9TyMHDeG8OFX0zPdJONfmyS+d"
    },
    "kernelspec": {
      "name": "python3",
      "display_name": "Python 3"
    },
    "language_info": {
      "name": "python"
    }
  },
  "cells": [
    {
      "cell_type": "code",
      "execution_count": 1,
      "metadata": {
        "colab": {
          "base_uri": "https://localhost:8080/"
        },
        "id": "6MJlld45BYSL",
        "outputId": "974025e6-93c9-40c1-f017-dc935e8f05e0"
      },
      "outputs": [
        {
          "output_type": "execute_result",
          "data": {
            "text/plain": [
              "(6.0, 3, 2)"
            ]
          },
          "metadata": {},
          "execution_count": 1
        }
      ],
      "source": [
        "import numpy as np\n",
        "\n",
        "# Define vectors v1, v2, v3 as columns of a matrix\n",
        "V = np.array([[3, -4, -2],\n",
        "              [0,  1,  1],\n",
        "              [-6, 7,  5]])\n",
        "\n",
        "# Compute determinant to check for linear independence\n",
        "det_V = np.linalg.det(V)\n",
        "\n",
        "# Compute rank to check if they span R^3\n",
        "rank_V = np.linalg.matrix_rank(V)\n",
        "\n",
        "# Define vectors b1, b2, b3 as columns of a matrix\n",
        "B = np.array([[11, 12, 32],\n",
        "              [ 0,  0,  1],\n",
        "              [ 0,  0,  0]])\n",
        "\n",
        "# Compute determinant and rank for B\n",
        "rank_B = np.linalg.matrix_rank(B)\n",
        "\n",
        "# Display results\n",
        "det_V, rank_V, rank_B"
      ]
    },
    {
      "cell_type": "markdown",
      "source": [
        "The determinant of the matrix V is 6, which is nonzero. This means that the set {v1, v2, v3} is linearly independent.\n",
        "\n",
        "The rank of V is 3, which means these vectors also span R^3."
      ],
      "metadata": {
        "id": "fR5ZIJK-CJbR"
      }
    },
    {
      "cell_type": "code",
      "source": [
        "# Define vectors b1, b2, b3 as columns of a matrix\n",
        "B = np.array([[11, 12, 32],\n",
        "              [0,  0,  1],\n",
        "              [0,  0,  0]])\n",
        "\n",
        "# Compute determinant to check for linear independence\n",
        "# Since B is not a square matrix, we check rank instead\n",
        "rank_B = np.linalg.matrix_rank(B)\n",
        "\n",
        "# Check if B spans R^3 (rank should be 3)\n",
        "spans_R3 = rank_B == 3\n",
        "\n",
        "# Display results\n",
        "rank_B, spans_R3"
      ],
      "metadata": {
        "colab": {
          "base_uri": "https://localhost:8080/"
        },
        "id": "Ra_dNxf7Bw1b",
        "outputId": "54df196b-1d24-4181-ff2e-f37f869694e4"
      },
      "execution_count": 2,
      "outputs": [
        {
          "output_type": "execute_result",
          "data": {
            "text/plain": [
              "(2, False)"
            ]
          },
          "metadata": {},
          "execution_count": 2
        }
      ]
    },
    {
      "cell_type": "markdown",
      "source": [
        "The rank of matrix B is 2, meaning the vectors are linearly dependent.\n",
        "\n",
        "Since the rank is not 3, the vectors in B do not span R^3."
      ],
      "metadata": {
        "id": "jbsynHrjCxVO"
      }
    }
  ]
}